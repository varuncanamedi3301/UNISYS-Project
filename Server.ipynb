{
  "nbformat": 4,
  "nbformat_minor": 0,
  "metadata": {
    "colab": {
      "name": "Demo.ipynb",
      "provenance": [],
      "collapsed_sections": [],
      "authorship_tag": "ABX9TyPZ3EfX+7qrk0enH9Mnetvl",
      "include_colab_link": true
    },
    "kernelspec": {
      "name": "python3",
      "display_name": "Python 3"
    },
    "language_info": {
      "name": "python"
    }
  },
  "cells": [
    {
      "cell_type": "markdown",
      "metadata": {
        "id": "view-in-github",
        "colab_type": "text"
      },
      "source": [
        "<a href=\"https://colab.research.google.com/github/varuncanamedi3301/UNISYS-Project/blob/main/Server.ipynb\" target=\"_parent\"><img src=\"https://colab.research.google.com/assets/colab-badge.svg\" alt=\"Open In Colab\"/></a>"
      ]
    },
    {
      "cell_type": "code",
      "metadata": {
        "id": "GxwVfpoDIw20",
        "colab": {
          "base_uri": "https://localhost:8080/"
        },
        "outputId": "68509f98-a4af-4443-c7eb-1a0de66457d4"
      },
      "source": [
        "!pip3 install --extra-index-url https://google-coral.github.io/py-repo tflite_runtime"
      ],
      "execution_count": null,
      "outputs": [
        {
          "output_type": "stream",
          "text": [
            "Looking in indexes: https://pypi.org/simple, https://google-coral.github.io/py-repo\n",
            "Collecting tflite_runtime\n",
            "  Downloading https://github.com/google-coral/pycoral/releases/download/v2.0.0/tflite_runtime-2.5.0.post1-cp37-cp37m-linux_x86_64.whl (1.5 MB)\n",
            "\u001b[K     |████████████████████████████████| 1.5 MB 5.4 MB/s \n",
            "\u001b[?25hRequirement already satisfied: numpy>=1.16.0 in /usr/local/lib/python3.7/dist-packages (from tflite_runtime) (1.19.5)\n",
            "Installing collected packages: tflite-runtime\n",
            "Successfully installed tflite-runtime-2.5.0.post1\n"
          ],
          "name": "stdout"
        }
      ]
    },
    {
      "cell_type": "code",
      "metadata": {
        "colab": {
          "base_uri": "https://localhost:8080/"
        },
        "id": "u5b8RUpIeKVL",
        "outputId": "bbc9bd05-03e5-4f8b-d16b-c7d08660e819"
      },
      "source": [
        "! pip install paho-mqtt"
      ],
      "execution_count": null,
      "outputs": [
        {
          "output_type": "stream",
          "text": [
            "Collecting paho-mqtt\n",
            "  Downloading paho-mqtt-1.5.1.tar.gz (101 kB)\n",
            "\u001b[?25l\r\u001b[K     |███▏                            | 10 kB 22.2 MB/s eta 0:00:01\r\u001b[K     |██████▍                         | 20 kB 27.0 MB/s eta 0:00:01\r\u001b[K     |█████████▋                      | 30 kB 12.6 MB/s eta 0:00:01\r\u001b[K     |████████████▉                   | 40 kB 9.6 MB/s eta 0:00:01\r\u001b[K     |████████████████                | 51 kB 5.1 MB/s eta 0:00:01\r\u001b[K     |███████████████████▎            | 61 kB 5.7 MB/s eta 0:00:01\r\u001b[K     |██████████████████████▌         | 71 kB 5.5 MB/s eta 0:00:01\r\u001b[K     |█████████████████████████▊      | 81 kB 6.2 MB/s eta 0:00:01\r\u001b[K     |█████████████████████████████   | 92 kB 4.7 MB/s eta 0:00:01\r\u001b[K     |████████████████████████████████| 101 kB 3.7 MB/s \n",
            "\u001b[?25hBuilding wheels for collected packages: paho-mqtt\n",
            "  Building wheel for paho-mqtt (setup.py) ... \u001b[?25l\u001b[?25hdone\n",
            "  Created wheel for paho-mqtt: filename=paho_mqtt-1.5.1-py3-none-any.whl size=61566 sha256=9ac217a985c4b7674c4de1806839c80c203df4d6dd25d1ea3c74b94bb7c80cbc\n",
            "  Stored in directory: /root/.cache/pip/wheels/c9/be/2a/883db47312c70ef7ffcaff281f3294e3075f62da075474d4bb\n",
            "Successfully built paho-mqtt\n",
            "Installing collected packages: paho-mqtt\n",
            "Successfully installed paho-mqtt-1.5.1\n"
          ],
          "name": "stdout"
        }
      ]
    },
    {
      "cell_type": "code",
      "metadata": {
        "colab": {
          "base_uri": "https://localhost:8080/"
        },
        "id": "N7546agWEJkr",
        "outputId": "f7078390-40b9-48c3-c67e-fffa3757f165"
      },
      "source": [
        "import tflite_runtime\n",
        "from tflite_runtime.interpreter import Interpreter\n",
        "\n",
        "print(tflite_runtime.__version__)\n",
        "print(tflite_runtime.interpreter.Interpreter)"
      ],
      "execution_count": null,
      "outputs": [
        {
          "output_type": "stream",
          "text": [
            "2.5.0.post1\n",
            "<class 'tflite_runtime.interpreter.Interpreter'>\n"
          ],
          "name": "stdout"
        }
      ]
    },
    {
      "cell_type": "code",
      "metadata": {
        "colab": {
          "base_uri": "https://localhost:8080/"
        },
        "id": "gvxYm9jy9Hdl",
        "outputId": "2f0ac261-51d1-4d96-faf3-adce10004189"
      },
      "source": [
        "from google.colab import drive\n",
        "drive.mount('/content/drive/')"
      ],
      "execution_count": null,
      "outputs": [
        {
          "output_type": "stream",
          "text": [
            "Mounted at /content/drive/\n"
          ],
          "name": "stdout"
        }
      ]
    },
    {
      "cell_type": "code",
      "metadata": {
        "id": "wGC7nlWa-Pp_"
      },
      "source": [
        "directory = '/content/drive/MyDrive/TFlite_model/'\n",
        "model_path = directory + \"model.tflite\"\n",
        "label_path = directory + \"model_labels.txt\"\n",
        "image_path = directory + \"subject_15_original_subject15.wink.jpg_d705a1b9-c87c-49f7-bc25-44a4d3e33e05.jpg\""
      ],
      "execution_count": null,
      "outputs": []
    },
    {
      "cell_type": "code",
      "metadata": {
        "id": "qDnR2_WFP0vO"
      },
      "source": [
        "data_base = '/content/drive/MyDrive/Access_Data.db'"
      ],
      "execution_count": null,
      "outputs": []
    },
    {
      "cell_type": "code",
      "metadata": {
        "id": "0-klf_3aE9Kw"
      },
      "source": [
        "import cv2\n",
        "import numpy as np\n",
        "import sqlite3\n",
        "import time\n",
        "from skimage import color\n",
        "from skimage.feature import hog\n",
        "import matplotlib.pyplot as plt\n",
        "from sqlite3 import Error\n",
        "import datetime\n",
        "from datetime import date"
      ],
      "execution_count": null,
      "outputs": []
    },
    {
      "cell_type": "code",
      "metadata": {
        "colab": {
          "base_uri": "https://localhost:8080/",
          "height": 286
        },
        "id": "QMkO7QR3sHLf",
        "outputId": "b77209ef-0e98-4411-c25d-9b813c66f6bc"
      },
      "source": [
        "import matplotlib.pyplot as plt\n",
        "photo=plt.imread(image_path)\n",
        "plt.imshow(photo)"
      ],
      "execution_count": null,
      "outputs": [
        {
          "output_type": "execute_result",
          "data": {
            "text/plain": [
              "<matplotlib.image.AxesImage at 0x7f8ccc296050>"
            ]
          },
          "metadata": {
            "tags": []
          },
          "execution_count": 25
        },
        {
          "output_type": "display_data",
          "data": {
            "image/png": "[encoded data removed]",
            "text/plain": [
              "<Figure size 432x288 with 1 Axes>"
            ]
          },
          "metadata": {
            "tags": [],
            "needs_background": "light"
          }
        }
      ]
    },
    {
      "cell_type": "markdown",
      "metadata": {
        "id": "eKe4nHSzr1G5"
      },
      "source": [
        "# LOADING THE TFLITE MODEL"
      ]
    },
    {
      "cell_type": "code",
      "metadata": {
        "colab": {
          "base_uri": "https://localhost:8080/"
        },
        "id": "HJn6X7oKFcDK",
        "outputId": "31ce4c17-71ca-4326-98a1-0dc66bf8c115"
      },
      "source": [
        "interpreter = Interpreter(model_path)\n",
        "print(\"Model Loaded Successfully.\")\n",
        "interpreter.allocate_tensors()"
      ],
      "execution_count": null,
      "outputs": [
        {
          "output_type": "stream",
          "text": [
            "Model Loaded Successfully.\n"
          ],
          "name": "stdout"
        }
      ]
    },
    {
      "cell_type": "code",
      "metadata": {
        "colab": {
          "base_uri": "https://localhost:8080/"
        },
        "id": "-G_6C_7FFcOT",
        "outputId": "6dfedf2e-abd0-4686-8296-2478840fafbb"
      },
      "source": [
        "print(\"Details about the input tensors:\\n   \", interpreter.get_input_details())\n",
        "print(\"There exist {num} input tensor(s).\".format(num=len(interpreter.get_input_details())))\n",
        "print(\"   Type:\", type(interpreter.get_input_details()), end=\"\\n\\n\")\n",
        "\n",
        "print(\"Details about the first input tensor:\\n  \", interpreter.get_input_details()[0])\n",
        "print(\"   Type:\", type(interpreter.get_input_details()[0]), end=\"\\n\\n\")\n",
        "\n",
        "print(\"Shape of the first input tensor:\\n   \", interpreter.get_input_details()[0]['shape'])\n",
        "print(\"   Type:\", type(interpreter.get_input_details()[0]['shape']), end=\"\\n\\n\")\n",
        "\n",
        "a,b = interpreter.get_input_details()[0]['shape']\n",
        "print(\"input shape =\",(a,b))"
      ],
      "execution_count": null,
      "outputs": [
        {
          "output_type": "stream",
          "text": [
            "Details about the input tensors:\n",
            "    [{'name': 'input_1', 'index': 0, 'shape': array([    1, 64800], dtype=int32), 'shape_signature': array([   -1, 64800], dtype=int32), 'dtype': <class 'numpy.float32'>, 'quantization': (0.0, 0), 'quantization_parameters': {'scales': array([], dtype=float32), 'zero_points': array([], dtype=int32), 'quantized_dimension': 0}, 'sparsity_parameters': {}}]\n",
            "There exist 1 input tensor(s).\n",
            "   Type: <class 'list'>\n",
            "\n",
            "Details about the first input tensor:\n",
            "   {'name': 'input_1', 'index': 0, 'shape': array([    1, 64800], dtype=int32), 'shape_signature': array([   -1, 64800], dtype=int32), 'dtype': <class 'numpy.float32'>, 'quantization': (0.0, 0), 'quantization_parameters': {'scales': array([], dtype=float32), 'zero_points': array([], dtype=int32), 'quantized_dimension': 0}, 'sparsity_parameters': {}}\n",
            "   Type: <class 'dict'>\n",
            "\n",
            "Shape of the first input tensor:\n",
            "    [    1 64800]\n",
            "   Type: <class 'numpy.ndarray'>\n",
            "\n",
            "input shape = (1, 64800)\n"
          ],
          "name": "stdout"
        }
      ]
    },
    {
      "cell_type": "markdown",
      "metadata": {
        "id": "FirZAfmPr_N1"
      },
      "source": [
        "# READ IMAGE AND EXTRACT THE HOG FEATURES"
      ]
    },
    {
      "cell_type": "code",
      "metadata": {
        "id": "ODuesQP3GS2g"
      },
      "source": [
        "image = cv2.imread(image_path)\n",
        "image = cv2.resize(image, (128,128))"
      ],
      "execution_count": null,
      "outputs": []
    },
    {
      "cell_type": "code",
      "metadata": {
        "id": "IojIJxNaGIkU"
      },
      "source": [
        "fd,hog_image = hog(image, orientations=8, pixels_per_cell=(4,4),cells_per_block=(3, 3),block_norm= 'L2',visualize=True)"
      ],
      "execution_count": null,
      "outputs": []
    },
    {
      "cell_type": "code",
      "metadata": {
        "id": "ajIP_MOeLY4C"
      },
      "source": [
        "fd = fd.reshape(1,64800)"
      ],
      "execution_count": null,
      "outputs": []
    },
    {
      "cell_type": "markdown",
      "metadata": {
        "id": "jWYaqX7-swOr"
      },
      "source": [
        "# DEFINING PROCEDURES TO CLASSIFY THE IMAGE AND UPDATE THE ATTENDANCE LOG"
      ]
    },
    {
      "cell_type": "code",
      "metadata": {
        "id": "9LUWnT4fLnDf"
      },
      "source": [
        "def set_input_tensor(interpreter, image):\n",
        "\n",
        "  tensor_index = interpreter.get_input_details()[0]['index']\n",
        "  print(\"Index of the input tensor: \", tensor_index, end=\"\\n\\n\")\n",
        "  input_tensor = interpreter.tensor(tensor_index)()[0]\n",
        "  input_tensor = image\n",
        "\n",
        "def classify_image(interpreter, image):\n",
        "  # Call the invoke() method from inside a function to avoid this RuntimeError: reference to internal data in the interpreter in the form of a numpy array or slice.\n",
        "  interpreter.invoke()\n",
        "  output_details = interpreter.get_output_details()[0]\n",
        "  scores = interpreter.get_tensor(output_details['index'])[0]\n",
        "  max_score_index = scores.argmax()\n",
        "  return max_score_index\n",
        "\n",
        "def sql_fetch(Gate, id_var):\n",
        "    record=c.execute('SELECT Name, G1, G2, G3 FROM employees where id=?', (id_var,))\n",
        "    rows = c.fetchall()\n",
        "    for row in rows:\n",
        "        if Gate == 'Gate1':\n",
        "            op = row[1]\n",
        "        elif Gate == 'Gate2':\n",
        "            op = row[2]\n",
        "        else:\n",
        "            op = row[3]\n",
        "    return op,row[0]\n",
        "\n",
        "def update_log(i_d, name, gate, access):\n",
        "    x = datetime.datetime.now()\n",
        "    current_time= x. strftime(\"%H:%M:%S\")\n",
        "    today= date.today()\n",
        "    entities = (i_d, name, current_time, today, gate, access)\n",
        "    c.execute('INSERT INTO employees_logf(ID, Name, Intime, Date, Gate, Access) VALUES(?, ?, ?, ?, ?, ?)', entities)\n",
        "    db_conn.commit()\n",
        "    print(\"Attendance log updated\")\n",
        "\n",
        "def sql_connect():\n",
        "    try:\n",
        "        db_conn = sqlite3.connect(data_base)\n",
        "        c = db_conn.cursor()\n",
        "        print(\"Connection is established\")\n",
        "        \n",
        "    except Error:\n",
        "        print('Error in Connecting to database')"
      ],
      "execution_count": null,
      "outputs": []
    },
    {
      "cell_type": "code",
      "metadata": {
        "colab": {
          "base_uri": "https://localhost:8080/"
        },
        "id": "BvrhEcppLx20",
        "outputId": "c7e8a91a-abcd-4be7-8f6a-1ac7d79ab94b"
      },
      "source": [
        "#set_input_tensor(interpreter, image)"
      ],
      "execution_count": null,
      "outputs": [
        {
          "output_type": "stream",
          "text": [
            "Index of the input tensor:  0\n",
            "\n"
          ],
          "name": "stdout"
        }
      ]
    },
    {
      "cell_type": "code",
      "metadata": {
        "id": "MzJR8mBPMJ7g"
      },
      "source": [
        "label_id = classify_image(interpreter, image)"
      ],
      "execution_count": null,
      "outputs": []
    },
    {
      "cell_type": "code",
      "metadata": {
        "id": "UTwlYhcTNB3X"
      },
      "source": [
        "with open(label_path, 'r') as f:\n",
        "  labels = [line.strip() for i, line in enumerate(f.readlines())]"
      ],
      "execution_count": null,
      "outputs": []
    },
    {
      "cell_type": "code",
      "metadata": {
        "colab": {
          "base_uri": "https://localhost:8080/"
        },
        "id": "bV6lMUSlNDeo",
        "outputId": "f188549e-f0f7-405c-d642-fc115a16de42"
      },
      "source": [
        "classification_label = labels[label_id].capitalize()\n",
        "\n",
        "print(\"Image Label:\", classification_label)"
      ],
      "execution_count": null,
      "outputs": [
        {
          "output_type": "stream",
          "text": [
            "Image Label: Subject_1\n"
          ],
          "name": "stdout"
        }
      ]
    },
    {
      "cell_type": "code",
      "metadata": {
        "id": "b9pERYltR8LW"
      },
      "source": [
        "Gate = 'Gate1'"
      ],
      "execution_count": null,
      "outputs": []
    },
    {
      "cell_type": "code",
      "metadata": {
        "colab": {
          "base_uri": "https://localhost:8080/"
        },
        "id": "AFnsfLG9hTnD",
        "outputId": "2e417b1e-ebbe-403b-de9e-68c811336de8"
      },
      "source": [
        "sql_connect()\n",
        "Access_status, Name = sql_fetch(Gate,classification_label)"
      ],
      "execution_count": null,
      "outputs": [
        {
          "output_type": "stream",
          "text": [
            "Connection is established\n"
          ],
          "name": "stdout"
        }
      ]
    },
    {
      "cell_type": "markdown",
      "metadata": {
        "id": "za-7DfJytYxI"
      },
      "source": [
        "# UPDATING THE ATTENDANCE LOG AND DISPLAYING THE RESULTS"
      ]
    },
    {
      "cell_type": "code",
      "metadata": {
        "colab": {
          "base_uri": "https://localhost:8080/"
        },
        "id": "geyMjTZMhMij",
        "outputId": "9704263a-6333-4c19-b94e-fad053385f0c"
      },
      "source": [
        "update_log(classification_label, Name, Gate, Access_status)"
      ],
      "execution_count": null,
      "outputs": [
        {
          "output_type": "stream",
          "text": [
            "Attendance log updated\n"
          ],
          "name": "stdout"
        }
      ]
    },
    {
      "cell_type": "code",
      "metadata": {
        "colab": {
          "base_uri": "https://localhost:8080/",
          "height": 175
        },
        "id": "_2LU6H2xjXzK",
        "outputId": "637051b2-c3e3-4742-8a5a-33bbdb0f17ce"
      },
      "source": [
        "import pandas as pd\n",
        "pd.read_sql(\"SELECT * FROM employees_logf\", db_conn)"
      ],
      "execution_count": null,
      "outputs": [
        {
          "output_type": "execute_result",
          "data": {
            "text/html": [
              "<div>\n",
              "<style scoped>\n",
              "    .dataframe tbody tr th:only-of-type {\n",
              "        vertical-align: middle;\n",
              "    }\n",
              "\n",
              "    .dataframe tbody tr th {\n",
              "        vertical-align: top;\n",
              "    }\n",
              "\n",
              "    .dataframe thead th {\n",
              "        text-align: right;\n",
              "    }\n",
              "</style>\n",
              "<table border=\"1\" class=\"dataframe\">\n",
              "  <thead>\n",
              "    <tr style=\"text-align: right;\">\n",
              "      <th></th>\n",
              "      <th>ID</th>\n",
              "      <th>Name</th>\n",
              "      <th>Intime</th>\n",
              "      <th>Date</th>\n",
              "      <th>Gate</th>\n",
              "      <th>Access</th>\n",
              "    </tr>\n",
              "  </thead>\n",
              "  <tbody>\n",
              "    <tr>\n",
              "      <th>0</th>\n",
              "      <td>Subject_15</td>\n",
              "      <td>Shashank S</td>\n",
              "      <td>12:59:47</td>\n",
              "      <td>2021-08-06</td>\n",
              "      <td>Gate1</td>\n",
              "      <td>1</td>\n",
              "    </tr>\n",
              "    <tr>\n",
              "      <th>1</th>\n",
              "      <td>Subject_15</td>\n",
              "      <td>Shashank S</td>\n",
              "      <td>13:00:39</td>\n",
              "      <td>2021-08-06</td>\n",
              "      <td>Gate1</td>\n",
              "      <td>1</td>\n",
              "    </tr>\n",
              "    <tr>\n",
              "      <th>2</th>\n",
              "      <td>Subject_15</td>\n",
              "      <td>Shashank S</td>\n",
              "      <td>13:02:49</td>\n",
              "      <td>2021-08-06</td>\n",
              "      <td>Gate1</td>\n",
              "      <td>1</td>\n",
              "    </tr>\n",
              "    <tr>\n",
              "      <th>3</th>\n",
              "      <td>Subject_15</td>\n",
              "      <td>Shashank S</td>\n",
              "      <td>13:04:15</td>\n",
              "      <td>2021-08-06</td>\n",
              "      <td>Gate1</td>\n",
              "      <td>1</td>\n",
              "    </tr>\n",
              "  </tbody>\n",
              "</table>\n",
              "</div>"
            ],
            "text/plain": [
              "           ID        Name    Intime        Date   Gate  Access\n",
              "0  Subject_15  Shashank S  12:59:47  2021-08-06  Gate1       1\n",
              "1  Subject_15  Shashank S  13:00:39  2021-08-06  Gate1       1\n",
              "2  Subject_15  Shashank S  13:02:49  2021-08-06  Gate1       1\n",
              "3  Subject_15  Shashank S  13:04:15  2021-08-06  Gate1       1"
            ]
          },
          "metadata": {
            "tags": []
          },
          "execution_count": 72
        }
      ]
    }
  ]
}