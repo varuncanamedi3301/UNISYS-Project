{
 "cells": [
  {
   "cell_type": "code",
   "execution_count": 17,
   "metadata": {
    "id": "SQ5J28OkwXgf"
   },
   "outputs": [],
   "source": [
    "import tensorflow as tf\n",
    "from tensorflow import keras\n",
    "from tensorflow.keras import layers\n",
    "import numpy as np\n",
    "import matplotlib.pyplot as plt\n",
    "import pandas as pd\n",
    "from skimage import color\n",
    "from skimage.feature import hog\n",
    "from tensorflow.keras.models import Model\n",
    "from tensorflow.keras.optimizers import Adam, SGD"
   ]
  },
  {
   "cell_type": "code",
   "execution_count": 2,
   "metadata": {
    "colab": {
     "base_uri": "https://localhost:8080/"
    },
    "id": "4ZAlmi_MvcEk",
    "outputId": "baf89788-cebb-4598-bff1-6e6a3a576a6e"
   },
   "outputs": [
    {
     "name": "stdout",
     "output_type": "stream",
     "text": [
      "Mounted at /content/drive/\n"
     ]
    }
   ],
   "source": [
    "from google.colab import drive\n",
    "drive.mount('/content/drive/')"
   ]
  },
  {
   "cell_type": "code",
   "execution_count": 4,
   "metadata": {
    "colab": {
     "base_uri": "https://localhost:8080/"
    },
    "id": "YYKJpxn0F48I",
    "outputId": "44196c16-72ee-493d-d45a-c92797b130bc"
   },
   "outputs": [
    {
     "name": "stdout",
     "output_type": "stream",
     "text": [
      "Found 1500 files belonging to 15 classes.\n"
     ]
    }
   ],
   "source": [
    "directory = '/content/drive/MyDrive/yalefaces'\n",
    "\n",
    "data_set =tf.keras.preprocessing.image_dataset_from_directory(\n",
    "    directory, labels='inferred', label_mode='int',\n",
    "    class_names=['subject_1', 'subject_10', 'subject_11', 'subject_12', 'subject_13', 'subject_14', 'subject_15', 'subject_2', 'subject_3', 'subject_4', 'subject_5', 'subject_6', 'subject_7', 'subject_8', 'subject_9'],\n",
    "    color_mode='grayscale', batch_size=1, image_size=(128, 128), shuffle=True, seed=None, validation_split=None, subset=None,\n",
    ")"
   ]
  },
  {
   "cell_type": "code",
   "execution_count": 7,
   "metadata": {
    "id": "TW9iCeB4Jb7o"
   },
   "outputs": [],
   "source": [
    "lst = list(data_set)"
   ]
  },
  {
   "cell_type": "code",
   "execution_count": 8,
   "metadata": {
    "id": "ufGYaoFNxsO6"
   },
   "outputs": [],
   "source": [
    "data, label = map(np.array,zip(*lst))"
   ]
  },
  {
   "cell_type": "code",
   "execution_count": 9,
   "metadata": {
    "id": "UBlRZRpazjSh"
   },
   "outputs": [],
   "source": [
    "data = data.astype('uint8').reshape(1500,128,128)"
   ]
  },
  {
   "cell_type": "code",
   "execution_count": 10,
   "metadata": {
    "id": "mwmxmQwFfPJu"
   },
   "outputs": [],
   "source": [
    "label = tf.keras.utils.to_categorical(label, num_classes=15)"
   ]
  },
  {
   "cell_type": "code",
   "execution_count": 12,
   "metadata": {
    "id": "vH4LTdK616mZ"
   },
   "outputs": [],
   "source": [
    "hog_images = []\n",
    "hog_features = []\n",
    "for image in data:\n",
    "    fd,hog_image = hog(image, orientations=8, pixels_per_cell=(4,4),cells_per_block=(3, 3),block_norm= 'L2',visualize=True)\n",
    "    hog_images.append(hog_image)\n",
    "    hog_features.append(fd)"
   ]
  },
  {
   "cell_type": "code",
   "execution_count": 13,
   "metadata": {
    "id": "zlGx2UZFY9Ma"
   },
   "outputs": [],
   "source": [
    "hog_features = np.array(hog_features)"
   ]
  },
  {
   "cell_type": "code",
   "execution_count": 14,
   "metadata": {
    "id": "keza4OZIAQuw"
   },
   "outputs": [],
   "source": [
    "from sklearn.model_selection import train_test_split\n",
    "X_train, X_test, y_train, y_test = train_test_split(hog_features, label, stratify=label, test_size=0.2)\n",
    "X_train, X_val, y_train, y_val = train_test_split(X_train, y_train, test_size=0.2, random_state=1)"
   ]
  },
  {
   "cell_type": "code",
   "execution_count": 15,
   "metadata": {
    "colab": {
     "base_uri": "https://localhost:8080/"
    },
    "id": "DcKaYu2TAp0F",
    "outputId": "a4230f32-642a-437e-e505-6bd583f87ae0"
   },
   "outputs": [
    {
     "data": {
      "text/plain": [
       "(960, 64800)"
      ]
     },
     "execution_count": 15,
     "metadata": {
      "tags": []
     },
     "output_type": "execute_result"
    }
   ],
   "source": [
    "X_train.shape"
   ]
  },
  {
   "cell_type": "code",
   "execution_count": 18,
   "metadata": {
    "id": "9gRdTds1stab"
   },
   "outputs": [],
   "source": [
    "inputs = layers.Input(shape=(64800))\n",
    "x = layers.Dense(1024, activation=\"relu\")(inputs)\n",
    "x = layers.Dense(512, activation=\"relu\")(x)\n",
    "x = layers.Dense(256, activation=\"relu\")(x) \n",
    "x = layers.Dense(128, activation=\"relu\")(x)\n",
    "outputs = layers.Dense(15, activation=\"softmax\")(x) \n",
    "\n",
    "model = Model(inputs=inputs, outputs=outputs, name=\"Unisys_Model\")"
   ]
  },
  {
   "cell_type": "code",
   "execution_count": 19,
   "metadata": {
    "colab": {
     "base_uri": "https://localhost:8080/"
    },
    "id": "8qMngU61u4xn",
    "outputId": "b45bd96e-8f5d-49c5-cad3-0481968b9dad"
   },
   "outputs": [
    {
     "name": "stdout",
     "output_type": "stream",
     "text": [
      "Epoch 1/34\n",
      "960/960 [==============================] - 17s 15ms/step - loss: 1.6787 - accuracy: 0.5063 - val_loss: 0.9524 - val_accuracy: 0.6875\n",
      "Epoch 2/34\n",
      "960/960 [==============================] - 14s 15ms/step - loss: 0.6032 - accuracy: 0.8354 - val_loss: 0.3773 - val_accuracy: 0.8792\n",
      "Epoch 3/34\n",
      "960/960 [==============================] - 14s 15ms/step - loss: 0.3361 - accuracy: 0.9302 - val_loss: 0.7983 - val_accuracy: 0.8125\n",
      "Epoch 4/34\n",
      "960/960 [==============================] - 14s 15ms/step - loss: 0.2829 - accuracy: 0.9500 - val_loss: 0.1273 - val_accuracy: 0.9708\n",
      "Epoch 5/34\n",
      "960/960 [==============================] - 14s 15ms/step - loss: 0.0915 - accuracy: 0.9854 - val_loss: 1.7158 - val_accuracy: 0.8000\n",
      "Epoch 6/34\n",
      "960/960 [==============================] - 14s 15ms/step - loss: 0.2935 - accuracy: 0.9573 - val_loss: 0.6660 - val_accuracy: 0.8792\n",
      "Epoch 7/34\n",
      "960/960 [==============================] - 14s 15ms/step - loss: 0.2859 - accuracy: 0.9604 - val_loss: 0.1894 - val_accuracy: 0.9708\n",
      "Epoch 8/34\n",
      "960/960 [==============================] - 14s 15ms/step - loss: 0.2928 - accuracy: 0.9688 - val_loss: 0.1164 - val_accuracy: 0.9792\n",
      "Epoch 9/34\n",
      "960/960 [==============================] - 14s 15ms/step - loss: 0.1332 - accuracy: 0.9865 - val_loss: 0.2830 - val_accuracy: 0.9458\n",
      "Epoch 10/34\n",
      "960/960 [==============================] - 14s 15ms/step - loss: 0.0430 - accuracy: 0.9969 - val_loss: 0.1302 - val_accuracy: 0.9667\n",
      "Epoch 11/34\n",
      "960/960 [==============================] - 14s 15ms/step - loss: 2.2777e-05 - accuracy: 1.0000 - val_loss: 0.1235 - val_accuracy: 0.9667\n",
      "Epoch 12/34\n",
      "960/960 [==============================] - 15s 15ms/step - loss: 8.5801e-06 - accuracy: 1.0000 - val_loss: 0.1209 - val_accuracy: 0.9667\n",
      "Epoch 13/34\n",
      "960/960 [==============================] - 14s 15ms/step - loss: 4.3237e-06 - accuracy: 1.0000 - val_loss: 0.1186 - val_accuracy: 0.9708\n",
      "Epoch 14/34\n",
      "960/960 [==============================] - 14s 15ms/step - loss: 2.2972e-06 - accuracy: 1.0000 - val_loss: 0.1163 - val_accuracy: 0.9708\n",
      "Epoch 15/34\n",
      "960/960 [==============================] - 14s 15ms/step - loss: 1.2421e-06 - accuracy: 1.0000 - val_loss: 0.1144 - val_accuracy: 0.9708\n",
      "Epoch 16/34\n",
      "960/960 [==============================] - 14s 15ms/step - loss: 6.6184e-07 - accuracy: 1.0000 - val_loss: 0.1131 - val_accuracy: 0.9708\n",
      "Epoch 17/34\n",
      "960/960 [==============================] - 14s 15ms/step - loss: 3.5986e-07 - accuracy: 1.0000 - val_loss: 0.1113 - val_accuracy: 0.9708\n",
      "Epoch 18/34\n",
      "960/960 [==============================] - 14s 15ms/step - loss: 1.9160e-07 - accuracy: 1.0000 - val_loss: 0.1097 - val_accuracy: 0.9708\n",
      "Epoch 19/34\n",
      "960/960 [==============================] - 14s 15ms/step - loss: 1.0170e-07 - accuracy: 1.0000 - val_loss: 0.1083 - val_accuracy: 0.9708\n",
      "Epoch 20/34\n",
      "960/960 [==============================] - 14s 15ms/step - loss: 5.3520e-08 - accuracy: 1.0000 - val_loss: 0.1067 - val_accuracy: 0.9708\n",
      "Epoch 21/34\n",
      "960/960 [==============================] - 14s 15ms/step - loss: 2.9554e-08 - accuracy: 1.0000 - val_loss: 0.1058 - val_accuracy: 0.9750\n",
      "Epoch 22/34\n",
      "960/960 [==============================] - 14s 15ms/step - loss: 1.7012e-08 - accuracy: 1.0000 - val_loss: 0.1041 - val_accuracy: 0.9750\n",
      "Epoch 23/34\n",
      "960/960 [==============================] - 14s 15ms/step - loss: 9.1890e-09 - accuracy: 1.0000 - val_loss: 0.1030 - val_accuracy: 0.9750\n",
      "Epoch 24/34\n",
      "960/960 [==============================] - 14s 15ms/step - loss: 5.4638e-09 - accuracy: 1.0000 - val_loss: 0.1016 - val_accuracy: 0.9750\n",
      "Epoch 25/34\n",
      "960/960 [==============================] - 14s 15ms/step - loss: 2.3594e-09 - accuracy: 1.0000 - val_loss: 0.1004 - val_accuracy: 0.9750\n",
      "Epoch 26/34\n",
      "960/960 [==============================] - 14s 15ms/step - loss: 1.4901e-09 - accuracy: 1.0000 - val_loss: 0.0994 - val_accuracy: 0.9750\n",
      "Epoch 27/34\n",
      "960/960 [==============================] - 14s 15ms/step - loss: 7.4506e-10 - accuracy: 1.0000 - val_loss: 0.0982 - val_accuracy: 0.9750\n",
      "Epoch 28/34\n",
      "960/960 [==============================] - 14s 15ms/step - loss: 2.4835e-10 - accuracy: 1.0000 - val_loss: 0.0981 - val_accuracy: 0.9750\n",
      "Epoch 29/34\n",
      "960/960 [==============================] - 14s 15ms/step - loss: 0.0000e+00 - accuracy: 1.0000 - val_loss: 0.0973 - val_accuracy: 0.9750\n",
      "Epoch 30/34\n",
      "960/960 [==============================] - 14s 15ms/step - loss: 0.0000e+00 - accuracy: 1.0000 - val_loss: 0.0956 - val_accuracy: 0.9792\n",
      "Epoch 31/34\n",
      "960/960 [==============================] - 14s 15ms/step - loss: 0.0000e+00 - accuracy: 1.0000 - val_loss: 0.0940 - val_accuracy: 0.9792\n",
      "Epoch 32/34\n",
      "960/960 [==============================] - 14s 15ms/step - loss: 0.0000e+00 - accuracy: 1.0000 - val_loss: 0.0924 - val_accuracy: 0.9792\n",
      "Epoch 33/34\n",
      "960/960 [==============================] - 14s 15ms/step - loss: 0.0000e+00 - accuracy: 1.0000 - val_loss: 0.0908 - val_accuracy: 0.9792\n",
      "Epoch 34/34\n",
      "960/960 [==============================] - 14s 15ms/step - loss: 0.0000e+00 - accuracy: 1.0000 - val_loss: 0.0897 - val_accuracy: 0.9833\n"
     ]
    }
   ],
   "source": [
    "model.compile(optimizer='adam', \n",
    "              loss='categorical_crossentropy', \n",
    "              metrics=['accuracy'])\n",
    "\n",
    "history = model.fit(x=X_train, y=y_train, epochs=34, batch_size=1, validation_data=(X_val, y_val))"
   ]
  },
  {
   "cell_type": "code",
   "execution_count": 20,
   "metadata": {
    "colab": {
     "base_uri": "https://localhost:8080/"
    },
    "id": "iVrPKzCzU-HF",
    "outputId": "7e2d5358-6733-495b-f2cd-6f40fe267249"
   },
   "outputs": [
    {
     "name": "stdout",
     "output_type": "stream",
     "text": [
      "10/10 [==============================] - 0s 7ms/step - loss: 0.2692 - accuracy: 0.9567\n"
     ]
    },
    {
     "data": {
      "text/plain": [
       "[0.26919373869895935, 0.9566666483879089]"
      ]
     },
     "execution_count": 20,
     "metadata": {
      "tags": []
     },
     "output_type": "execute_result"
    }
   ],
   "source": [
    "model.evaluate(X_test, y_test)"
   ]
  },
  {
   "cell_type": "code",
   "execution_count": 28,
   "metadata": {
    "colab": {
     "base_uri": "https://localhost:8080/",
     "height": 295
    },
    "id": "VBb23GSKSlAp",
    "outputId": "ddc0f457-973f-4d7a-8ee7-a4561b39bda6"
   },
   "outputs": [
    {
     "data": {
      "image/png": "[encoded data removed]",
      "text/plain": [
       "<Figure size 432x288 with 1 Axes>"
      ]
     },
     "metadata": {
      "needs_background": "light",
      "tags": []
     },
     "output_type": "display_data"
    }
   ],
   "source": [
    "loss_train = history.history['loss']\n",
    "loss_val = history.history['val_loss']\n",
    "epochs = range(1,35)\n",
    "plt.plot(epochs, loss_train, 'g', label='Training loss')\n",
    "plt.plot(epochs, loss_val, 'b', label='validation loss')\n",
    "plt.title('Training and Validation loss')\n",
    "plt.xlabel('Epochs')\n",
    "plt.ylabel('Loss')\n",
    "plt.legend()\n",
    "plt.show()"
   ]
  },
  {
   "cell_type": "code",
   "execution_count": 30,
   "metadata": {
    "colab": {
     "base_uri": "https://localhost:8080/",
     "height": 295
    },
    "id": "VElruoAP1l7V",
    "outputId": "64e7d0db-4e8f-42f9-8c4c-cffc1dcd9ca2"
   },
   "outputs": [
    {
     "data": {
      "image/png": "[encoded data removed]",
      "text/plain": [
       "<Figure size 432x288 with 1 Axes>"
      ]
     },
     "metadata": {
      "needs_background": "light",
      "tags": []
     },
     "output_type": "display_data"
    }
   ],
   "source": [
    "loss_train = history.history['accuracy']\n",
    "loss_val = history.history['val_accuracy']\n",
    "epochs = range(1,35)\n",
    "plt.plot(epochs, loss_train, 'g', label='Training accuracy')\n",
    "plt.plot(epochs, loss_val, 'b', label='validation accuracy')\n",
    "plt.title('Training and Validation accuracy')\n",
    "plt.xlabel('Epochs')\n",
    "plt.ylabel('Accuracy')\n",
    "plt.legend()\n",
    "plt.show()"
   ]
  },
  {
   "cell_type": "code",
   "execution_count": null,
   "metadata": {
    "id": "ZmzrFYXsaLMO"
   },
   "outputs": [],
   "source": []
  }
 ],
 "metadata": {
  "accelerator": "GPU",
  "colab": {
   "name": "Unisys_project.ipynb",
   "provenance": []
  },
  "kernelspec": {
   "display_name": "Python 3",
   "language": "python",
   "name": "python3"
  },
  "language_info": {
   "codemirror_mode": {
    "name": "ipython",
    "version": 3
   },
   "file_extension": ".py",
   "mimetype": "text/x-python",
   "name": "python",
   "nbconvert_exporter": "python",
   "pygments_lexer": "ipython3",
   "version": "3.6.9"
  }
 },
 "nbformat": 4,
 "nbformat_minor": 1
}
